{
 "cells": [
  {
   "cell_type": "markdown",
   "metadata": {},
   "source": [
    "# Rajendra Jadi\n",
    "# 801023390"
   ]
  },
  {
   "cell_type": "markdown",
   "metadata": {},
   "source": [
    "# linear_model(x, w) "
   ]
  },
  {
   "cell_type": "code",
   "execution_count": 2,
   "metadata": {},
   "outputs": [
    {
     "name": "stdout",
     "output_type": "stream",
     "text": [
      "5.98\n",
      "5.9799999999999995\n"
     ]
    }
   ],
   "source": [
    "import numpy as np\n",
    "\n",
    "def linear_model(x, w):\n",
    "    # fill in here\\\n",
    "    dotprod = 0.0\n",
    "    print( np.dot(x,w))\n",
    "    dotprod = sum(i*j for i,j in zip(x,w))\n",
    "    print(dotprod)\n",
    "    pass\n",
    "\n",
    "x = ([4.0,2.3,1.2,5.8])\n",
    "w= ([0.8,0.1,0.53,0.33])\n",
    "linear_model(x,w)\n"
   ]
  },
  {
   "cell_type": "code",
   "execution_count": 3,
   "metadata": {
    "scrolled": true
   },
   "outputs": [
    {
     "data": {
      "image/png": "[encoded data removed]",
      "text/plain": [
       "<matplotlib.figure.Figure at 0x2ac9b618d68>"
      ]
     },
     "metadata": {},
     "output_type": "display_data"
    }
   ],
   "source": [
    "from  matplotlib import pyplot as plt  \n",
    "import numpy as np\n",
    "X = np.linspace(0,10, 101)\n",
    "T = 2 * X  + 4+ np.random.rand(101) * 5\n",
    "def data_scatter(k=101):\n",
    "    plt.plot(T[:k], '.')\n",
    "    plt.xticks(range(0, 101, 20)[:k], range(0, 11, 2)[:k])\n",
    "\n",
    "\n",
    "mean = np.mean(T)\n",
    "\n",
    "data_scatter()\n",
    "plt.plot([0, 100],[mean, mean], 'r-')\n",
    "plt.show()\n"
   ]
  },
  {
   "cell_type": "markdown",
   "metadata": {},
   "source": [
    "# Least Squares"
   ]
  },
  {
   "cell_type": "code",
   "execution_count": 4,
   "metadata": {},
   "outputs": [
    {
     "data": {
      "image/png": "[encoded data removed]",
      "text/plain": [
       "<matplotlib.figure.Figure at 0x2ac9b650630>"
      ]
     },
     "metadata": {},
     "output_type": "display_data"
    }
   ],
   "source": [
    "import matplotlib.pyplot as plt  \n",
    "import numpy as np\n",
    "\n",
    "x = np.linspace(0,10, 101)\n",
    "T = 2 * x  + 4+ np.random.rand(101) * 5\n",
    "\n",
    "X = np.vstack([x, np.ones(len(x))]).T\n",
    " \n",
    "XTX_inv = np.linalg.inv(np.dot(X.T, X))\n",
    "w = np.dot(np.dot(XTX_inv,X.T), T)\n",
    "#w = np.linalg.lstsq(X, T)[0]\n",
    "data_scatter()\n",
    "plt.plot(np.dot(X,w), 'r')\n",
    "plt.show()"
   ]
  },
  {
   "cell_type": "markdown",
   "metadata": {},
   "source": [
    "# Least Mean Squares (LMS)"
   ]
  },
  {
   "cell_type": "code",
   "execution_count": 6,
   "metadata": {},
   "outputs": [
    {
     "data": {
      "image/png": "[encoded data removed]",
      "text/plain": [
       "<matplotlib.figure.Figure at 0x2ac9b6483c8>"
      ]
     },
     "metadata": {},
     "output_type": "display_data"
    }
   ],
   "source": [
    "import numpy as np\n",
    "import random\n",
    "from matplotlib import pyplot as plt\n",
    "\n",
    "def genData(numPoints, bias, variance):\n",
    "    x = np.zeros(shape=(numPoints, 2))\n",
    "    y = np.zeros(shape=numPoints)\n",
    "    for i in range(0, numPoints):\n",
    " \n",
    "        x[i][0] = 1\n",
    "        x[i][1] = i\n",
    "        y[i] = bias + i * variance  + random.uniform(0, 1) * 15\n",
    "    return x, y\n",
    "\n",
    "def gradientDescent(x, y, w, alpha, m, N):\n",
    "    xTrans = x.transpose()\n",
    "    for i in range(0, N):\n",
    "        loss = np.dot(x, w) - y        \n",
    "        gradient = np.dot(xTrans, loss) / m \n",
    "        w = w - alpha * gradient\n",
    "    return w\n",
    "\n",
    "def plotModel(x, y, w):    \n",
    "    plt.plot(x[:,1], y, \".\")   \n",
    "    plt.plot(x[:,1], [i+j  for i, j in x * w], \"r-\") \n",
    "    plt.show()\n",
    "    \n",
    "# gen 70 points with a bias of 6 and 0.8 variance as a bit of noise\n",
    "x, y = genData(70, 6, 0.8)\n",
    "m, n = np.shape(x)\n",
    "N = 1000\n",
    "alpha = 0.001\n",
    "w = np.ones(n)\n",
    "w = gradientDescent(x, y, w, alpha, m, N)\n",
    "plotModel(x, y, w)\n"
   ]
  },
  {
   "cell_type": "code",
   "execution_count": null,
   "metadata": {
    "collapsed": true
   },
   "outputs": [],
   "source": []
  }
 ],
 "metadata": {
  "kernelspec": {
   "display_name": "Python 3",
   "language": "python",
   "name": "python3"
  },
  "language_info": {
   "codemirror_mode": {
    "name": "ipython",
    "version": 3
   },
   "file_extension": ".py",
   "mimetype": "text/x-python",
   "name": "python",
   "nbconvert_exporter": "python",
   "pygments_lexer": "ipython3",
   "version": "3.6.1"
  }
 },
 "nbformat": 4,
 "nbformat_minor": 2
}
